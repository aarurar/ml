{
  "nbformat": 4,
  "nbformat_minor": 0,
  "metadata": {
    "colab": {
      "provenance": []
    },
    "kernelspec": {
      "name": "python3",
      "display_name": "Python 3"
    },
    "language_info": {
      "name": "python"
    }
  },
  "cells": [
    {
      "cell_type": "markdown",
      "source": [
        "Question 1"
      ],
      "metadata": {
        "id": "u-yEdt5akmBP"
      }
    },
    {
      "cell_type": "code",
      "execution_count": null,
      "metadata": {
        "id": "jBZOkGJMkPG0"
      },
      "outputs": [],
      "source": [
        "'''\n",
        "lasso adds the magnitude, so less important predictor's theta will be made zero\n",
        "'''"
      ]
    },
    {
      "cell_type": "markdown",
      "source": [
        "Question 2"
      ],
      "metadata": {
        "id": "eQBhX0JLkqmy"
      }
    },
    {
      "cell_type": "code",
      "source": [
        "'''\n",
        "The main advantage of using Lasso Regression in feature selection is that it performs automatic feature selection \n",
        "by shrinking the coefficients of less important features to zero, resulting in a sparse model with only the most important features retained.\n",
        "'''"
      ],
      "metadata": {
        "id": "p70BEwOkk70H"
      },
      "execution_count": null,
      "outputs": []
    },
    {
      "cell_type": "markdown",
      "source": [
        "Question 3"
      ],
      "metadata": {
        "id": "OMB-tanLkqu6"
      }
    },
    {
      "cell_type": "code",
      "source": [
        "'''\n",
        "The interpretation of coefficients in a Lasso Regression model is similar to that of linear regression.\n",
        "The coefficients represent the change in the dependent variable for each unit increase in the corresponding independent variable, holding all other variables constant. \n",
        "However, unlike linear regression, some coefficients in Lasso Regression can be exactly zero.\n",
        "This means that those variables have been completely eliminated from the model, and can be interpreted as having no effect on the dependent variable. \n",
        "'''"
      ],
      "metadata": {
        "id": "M1J7Kpb6k8RT"
      },
      "execution_count": null,
      "outputs": []
    },
    {
      "cell_type": "markdown",
      "source": [
        "Question 4"
      ],
      "metadata": {
        "id": "7hjdRtbdkq1T"
      }
    },
    {
      "cell_type": "code",
      "source": [
        "'''\n",
        "Lasso Regression has only one tuning parameter, which is lambda (λ), also known as the regularization strength parameter. \n",
        "This parameter controls the strength of regularization applied to the coefficients. Increasing the value of lambda results in more coefficients being shrunk to zero,\n",
        "thus increasing the degree of sparsity of the model. In other words, a higher value of lambda leads to more feature selection and a simpler model. However, a too high value of lambda can cause underfitting.\n",
        "On the other hand, a too low value of lambda can lead to overfitting.Therefore, the value of lambda needs to be carefully chosen to obtain the best trade-off between model complexity and predictive performance.\n",
        "'''"
      ],
      "metadata": {
        "id": "qFz3hnT6k8vL"
      },
      "execution_count": null,
      "outputs": []
    },
    {
      "cell_type": "markdown",
      "source": [
        "Question 5"
      ],
      "metadata": {
        "id": "nOOIB8yCkrEa"
      }
    },
    {
      "cell_type": "code",
      "source": [
        "'''\n",
        "Yes, it can.\n",
        "Lasso Regression is a linear regression technique and can only be used for linear regression problems. \n",
        "However, it can be extended to handle non-linear regression problems by introducing non-linear transformations of the independent variables. \n",
        "This can be done by creating new variables as a combination of the original variables, such as their products, powers, or interactions. \n",
        "Then, Lasso Regression can be applied to the transformed data to obtain a model that captures the non-linear relationships between the variables. \n",
        "However, it is important to note that the resulting model will still be a linear combination of the transformed variables.\n",
        "'''"
      ],
      "metadata": {
        "id": "GEPmau2ck9an"
      },
      "execution_count": null,
      "outputs": []
    },
    {
      "cell_type": "markdown",
      "source": [
        "Question 6\n"
      ],
      "metadata": {
        "id": "ltKJfcYRkrmy"
      }
    },
    {
      "cell_type": "code",
      "source": [
        "'''\n",
        "Ridge Regression and Lasso Regression are both regularization techniques used in linear regression to handle overfitting, but they differ in their approach to shrinkage and feature selection.\n",
        "Ridge Regression is better suited when all predictors are important to the response variable, while Lasso Regression is better suited when some predictors are less important or irrelevant.\n",
        "'''"
      ],
      "metadata": {
        "id": "Gs60T0hUk98_"
      },
      "execution_count": null,
      "outputs": []
    },
    {
      "cell_type": "markdown",
      "source": [
        "Question 7"
      ],
      "metadata": {
        "id": "QsKIN6QXkshL"
      }
    },
    {
      "cell_type": "code",
      "source": [
        "'''\n",
        "Yes, Lasso Regression can handle multicollinearity in the input features. The L1 regularization term in the loss function of Lasso Regression shrinks the coefficients of the highly \n",
        "correlated input features towards zero, effectively selecting one feature over the other. \n",
        "Therefore, Lasso Regression can automatically perform feature selection, resulting in a sparse model with fewer features. \n",
        "'''"
      ],
      "metadata": {
        "id": "rWrXuRI4k-d3"
      },
      "execution_count": null,
      "outputs": []
    },
    {
      "cell_type": "markdown",
      "source": [
        "Question 8"
      ],
      "metadata": {
        "id": "2Ysa_xXrksob"
      }
    },
    {
      "cell_type": "code",
      "source": [
        "#cross validation"
      ],
      "metadata": {
        "id": "rPFhNNChk-zD"
      },
      "execution_count": null,
      "outputs": []
    }
  ]
}